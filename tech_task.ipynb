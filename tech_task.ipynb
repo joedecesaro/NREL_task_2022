{
  "cells": [
    {
      "cell_type": "raw",
      "metadata": {},
      "source": [
        "---\n",
        "title: NREL Technical Task 2022\n",
        "format:\n",
        "  html:\n",
        "    code-fold: true\n",
        "editor: visual\n",
        "---"
      ],
      "id": "ba147581"
    },
    {
      "cell_type": "markdown",
      "metadata": {},
      "source": [
        "# The Task:\n",
        "\n",
        "Wind resource varies highly across space and at different temporal scales, e.g., sub-hourly, diurnal, monthly, and annual. Understanding this variability is crucial for many wind energy modeling applications. Develop a prototype analysis tool that examines wind speed variability at diurnal and monthly temporal scales at an individual location of your choosing. Use NREL's WIND Toolkit (WTK) data set (see below) to examine hourly (60-minute interval) wind speed data for the year 2012. Use only open-source tools. Develop statistical summaries and simple visualizations that will inform the user on the wind speed variability across diurnal and monthly scales. Your solution should provide location-specific summaries but should also be developed in an extensible manner such that it could be scaled in the future to run efficiently across broad geographic extents (utilizing an HPC system or the cloud). Prepare a 15-minute section of your interview presentation on your solution and demonstrate the insight it provides. Discuss how your approach could be scaled and extended to examine temporal variability across space.\n",
        "\n",
        "## Set Up for Task"
      ],
      "id": "8ea062dc"
    },
    {
      "cell_type": "code",
      "metadata": {},
      "source": [
        "#| label: setup packages\n",
        "\n",
        "import numpy as np\n",
        "import pandas as pd\n",
        "import dateutil\n",
        "import matplotlib.pyplot as plt\n",
        "import matplotlib.image as mpimg\n",
        "from scipy.spatial import cKDTree\n",
        "import h5pyd\n",
        "import h5py"
      ],
      "id": "setup-packages",
      "execution_count": null,
      "outputs": []
    },
    {
      "cell_type": "markdown",
      "metadata": {},
      "source": [
        "## Import Data and subset\n",
        "\n",
        "Data was downloaded following the instructions provided in the instruction email: https://github.com/NREL/hsds-examples/blob/master/notebooks/02_WTK_Domains_introduction.ipynb\n",
        "\n",
        "For this to work you must first install h5pyd:\n",
        "\n",
        "`pip install --user h5pyd`\n",
        "\n",
        "Next you'll need to configure HSDS:\n",
        "\n",
        "`hsconfigure`\n",
        "\n",
        "and enter at the prompt:\n",
        "\n",
        "`hs_endpoint = https://developer.nrel.gov/api/hsds` \n",
        "`hs_username = None` \n",
        "`hs_password = None` \n",
        "`hs_api_key = 3K3JQbjZmWctY0xmIfSYvYgtIcM3CN0cb1Y2w9bf`\n",
        "\n",
        "The example API key here is for demonstration and is rate-limited per IP. To get your own API key, visit \\[\\]https://developer.nrel.gov/signup/\n",
        "\n",
        "Let's import the data for the year 2012 and for the contiguous US."
      ],
      "id": "92a727f6"
    },
    {
      "cell_type": "code",
      "metadata": {},
      "source": [
        "#| label: Import data\n",
        "year = '2012'\n",
        "country = \"conus\" # \n",
        "wind_file_path = \"/nrel/wtk/conus/wtk_\" + country + \"_\" + year + \".h5\"\n",
        "raw_h5 = h5pyd.File(wind_file_path, 'r')\n",
        "\n",
        "list(raw_h5)"
      ],
      "id": "Import-data",
      "execution_count": null,
      "outputs": []
    },
    {
      "cell_type": "markdown",
      "metadata": {},
      "source": [
        "The below chunk takes a look at the data dimensions. Understanding the dimensions is critical to working with .h5 files as the index numbers are what ties the separate data structures together."
      ],
      "id": "5c2d8bbe"
    },
    {
      "cell_type": "code",
      "metadata": {},
      "source": [
        "#| label: Take a look at some file shapes\n",
        "raw_h5['coordinates']\n",
        "raw_h5['meta']\n",
        "raw_h5['windspeed_100m']\n",
        "raw_h5['time_index']"
      ],
      "id": "Take-a-look-at-some-file-shapes",
      "execution_count": null,
      "outputs": []
    },
    {
      "cell_type": "markdown",
      "metadata": {},
      "source": [
        "So with the dimensions above we can interpret that there are almost 2.5 million coordinate points and 8,784 time points. We can then extract the wind speed at a specific time and place during the year.\n",
        "\n",
        "### Time Subset\n",
        "\n",
        "Next we will pull out the time index data and make it more friendly for python to work with.The time data is hourly for every day of the year."
      ],
      "id": "405f13c6"
    },
    {
      "cell_type": "code",
      "metadata": {},
      "source": [
        "#| label: Make the time data a usable string\n",
        "time_index = pd.to_datetime(raw_h5['time_index'][...].astype(str)) #save timestamp index as object in date time format\n",
        "time_index\n",
        "time_df = pd.DataFrame(data = time_index, columns = ['date_time']) # save as pandas DF to use later.\n",
        "\n",
        "# datetimeIndex has each our of the day stored"
      ],
      "id": "Make-the-time-data-a-usable-string",
      "execution_count": null,
      "outputs": []
    },
    {
      "cell_type": "markdown",
      "metadata": {},
      "source": [
        "### Meta Data Subset\n",
        "\n",
        "Next the meta data is saved. This will not be used for this model but it is helpful to understand what kind of data is embedded in the file."
      ],
      "id": "b254b2dd"
    },
    {
      "cell_type": "code",
      "metadata": {},
      "source": [
        "#| label: Save meta data as a dataframe object\n",
        "meta = pd.DataFrame(raw_h5['meta'][...]) #save meta data as object, ellipses makes it an array rather than HDF5\n",
        "meta.head() # just used to look at the data more easily\n",
        "# This has latitude and longitude columns that can be used to search for other information where necessary and if needed"
      ],
      "id": "Save-meta-data-as-a-dataframe-object",
      "execution_count": null,
      "outputs": []
    },
    {
      "cell_type": "markdown",
      "metadata": {},
      "source": [
        "### Coordinates Subset"
      ],
      "id": "769ea4a2"
    },
    {
      "cell_type": "code",
      "metadata": {},
      "source": [
        "#| label: Make the coords df and a way to search for place of interest\n",
        "\n",
        "coords = raw_h5['coordinates'][...] # save coordinates data as array, ellipses makes it an array rather than HDF5\n",
        "coords_df = pd.DataFrame(data = coords)\n",
        "coords_df.columns = ['latitude', 'longitude']"
      ],
      "id": "Make-the-coords-df-and-a-way-to-search-for-place-of-interest",
      "execution_count": null,
      "outputs": []
    },
    {
      "cell_type": "markdown",
      "metadata": {},
      "source": [
        "## A Function to Find the Index for a Point of Interest\n",
        "\n",
        "The function `nearest_site`, allows you to find the index numbers within a `coord_array` for a given latitude (`lat_coord`) and longitude (`lon_coord`) coordinate. The returned index numbers will allow you to find the wind speed for the point of interest in the .h5 file."
      ],
      "id": "a48a3087"
    },
    {
      "cell_type": "code",
      "metadata": {},
      "source": [
        "# The function below l\n",
        "def nearest_site(coord_array, lat_coord, lon_coord):\n",
        "    tree = cKDTree(coord_array)\n",
        "    lat_lon = np.array([lat_coord, lon_coord])\n",
        "    dist, pos = tree.query(lat_lon)\n",
        "    return pos;"
      ],
      "id": "1f68c079",
      "execution_count": null,
      "outputs": []
    },
    {
      "cell_type": "markdown",
      "metadata": {},
      "source": [
        "### Testing\n",
        "\n",
        "The below is a test for the function above for the point of interest (POI). The coordinates used in this example are for Santa Barbara, California. We are making the coords object the same as above here but it is included so that it is more obvious where things are coming from in the function call."
      ],
      "id": "e6176eae"
    },
    {
      "cell_type": "code",
      "metadata": {},
      "source": [
        "coords = raw_h5['coordinates'][...] # save coordinates data as array, ellipses makes it an array rather than HDF5\n",
        "POI = (34.420830, -119.698189)\n",
        "\n",
        "POI_indx = nearest_site(coord_array = coords, \n",
        "                        lat_coord = POI[0], \n",
        "                        lon_coord = POI[1])\n",
        "POI_indx"
      ],
      "id": "e18809dc",
      "execution_count": null,
      "outputs": []
    },
    {
      "cell_type": "markdown",
      "metadata": {},
      "source": [
        "## Finding the Wind Speed for `POI_indx`\n",
        "\n",
        "For this example we will be using the data for `windspeed_100m` from the `raw_h5` extracted at the beginning of the demo. The list of available data is above under the call `list(raw_h5)`. Next the wind speed is extracted from the h5 for all time rows in the designated year at the specific location indicated by the index. It is unscaled by the `scale_factor` of 100 so that the resulting values represent m/s."
      ],
      "id": "32238e59"
    },
    {
      "cell_type": "code",
      "metadata": {},
      "source": [
        "def h5_extractor(raw_h5, variable,)\n",
        "\n",
        "windspeed_100_raw = raw_h5['windspeed_100m'] # save the h5 separately\n",
        "\n",
        "windspeed_100_raw = windspeed_100_raw[:, POI_indx] / windspeed_100_raw.attrs['scale_factor'] # Make wind speed array and unscale data so that it is in m/s\n",
        "\n",
        "windspeed_100 = pd.DataFrame(data = windspeed_100_raw) # make array a DF for the timeseries of interest"
      ],
      "id": "1cc58674",
      "execution_count": null,
      "outputs": []
    },
    {
      "cell_type": "markdown",
      "metadata": {},
      "source": [
        "## Make a DataFrame for Wind Speed\n",
        "\n",
        "Next the setup work that has been done above will be made into a more useful data frame so that information can be visualized more easily. This function assumes you have completed the steps above"
      ],
      "id": "88cb0a45"
    },
    {
      "cell_type": "code",
      "metadata": {},
      "source": [
        "def windspeed_point_df_maker(time_df, coords_df, windspeed, POI_indx):\n",
        "    df = pd.DataFrame(dtype = float) # making a data frame with default dtype 'float'\n",
        "    df['year'] = time_df['date_time'].dt.year # make a year column\n",
        "    df['month'] = time_df['date_time'].dt.month # make a month column\n",
        "    df['day'] = time_df['date_time'].dt.day # make a day column\n",
        "    df['hour'] = time_df['date_time'].dt.hour # make an hour column\n",
        "    df['latitude'] = coords_df['latitude'].iloc[POI_indx] # get all latitude coords\n",
        "    df['longitude'] = coords_df['longitude'].iloc[POI_indx] # get all longitude coords\n",
        "    df['windspeed'] = windspeed_100 # unscaled windspeeds\n",
        "    df['avg_windspeed'] = df['windspeed'].mean() # find the average windspeed for the whole dataset\n",
        "    return df"
      ],
      "id": "9982aa78",
      "execution_count": null,
      "outputs": []
    },
    {
      "cell_type": "markdown",
      "metadata": {},
      "source": [
        "Now that we have a function to give us a more usable data frame lets make one for the wind speed at 100 meters data"
      ],
      "id": "eec899b2"
    },
    {
      "cell_type": "code",
      "metadata": {},
      "source": [
        "df_100m = windspeed_point_df_maker(time_df = time_df,\n",
        "                                   coords_df = coords_df,\n",
        "                                   windspeed = windspeed_100,\n",
        "                                   POI_indx = POI_indx)\n",
        "df_100m.head()"
      ],
      "id": "c10cb315",
      "execution_count": null,
      "outputs": []
    },
    {
      "cell_type": "markdown",
      "metadata": {},
      "source": [
        "## Subset for Visualizations\n",
        "\n",
        "The function below, `time_subset`, will allow the user to group the data into a designated subset by the hour, day, or month. Different functions are completed based on the type of plots one may want to make with the data. This function assumes that the data has been categorized as is done in the `windspeed_point_df_maker` function."
      ],
      "id": "6b394b10"
    },
    {
      "cell_type": "code",
      "metadata": {},
      "source": [
        "def time_subset(period, df):\n",
        "    if period == 'hour':\n",
        "        df = df.groupby(['year','month','hour','avg_windspeed'], as_index = False).agg(hour_avg_windspeed = ('windspeed', 'mean'), standard_dev = ('windspeed', 'std'))\n",
        "    elif period == 'day':\n",
        "        df = df.groupby(['year','month','day','avg_windspeed'], as_index = False).agg(daily_avg_windspeed = ('windspeed', 'mean'), standard_dev = ('windspeed', 'std'))\n",
        "        df['date'] = pd.to_datetime(df['year'].astype(str) + '/' +df['month'].astype(str) + '/' + df['day'].astype(str))\n",
        "    elif period == 'month':\n",
        "        df = df.groupby(['month', 'avg_windspeed'], as_index = False).agg(month_avg_windspeed = ('windspeed', 'mean'), standard_dev = ('windspeed', 'std'))\n",
        "    else:\n",
        "        print(\"Period must be desginated as either hour, day, or month\")\n",
        "    return df"
      ],
      "id": "cf1c3ea1",
      "execution_count": null,
      "outputs": []
    },
    {
      "cell_type": "markdown",
      "metadata": {},
      "source": [
        "## Visualizing Wind Variability\n",
        "\n",
        "Next the data is subset to be made into visualizations. This uses the function just made `time_subset` above. First lets explore the daily summary to see average wind speed of each day.\n",
        "\n",
        "### Daily Averages"
      ],
      "id": "76b5db76"
    },
    {
      "cell_type": "code",
      "metadata": {},
      "source": [
        "day_var = time_subset(period = 'day', df = df_100m)\n",
        "day_var.head()"
      ],
      "id": "600c8eb1",
      "execution_count": null,
      "outputs": []
    },
    {
      "cell_type": "markdown",
      "metadata": {},
      "source": [
        "First a histogram is made to understand how daily wind averages are distributed across 2012."
      ],
      "id": "39e612d0"
    },
    {
      "cell_type": "code",
      "metadata": {},
      "source": [
        "plt.clf()\n",
        "plt.hist(x = day_var['daily_avg_windspeed'], color = \"darkgreen\", label = \"Average Daily Wind Speed\", bins = 12)\n",
        "plt.xlabel(\"Average Wind Speed at 100m Height (m/s)\")\n",
        "plt.ylabel(\"Count\")\n",
        "plt.title(\"Average Daily Wind Speeds in Santa Barbara at 100 Meters for 2012\")\n",
        "plt.show()"
      ],
      "id": "d23becd8",
      "execution_count": null,
      "outputs": []
    },
    {
      "cell_type": "markdown",
      "metadata": {},
      "source": [
        "This histogram tells us that that most days of the year have a wind speed averaging less than 5 m/s in Santa Barbara. If we look at how these variations are spread across the year are there any patterns that emerge?"
      ],
      "id": "c20932e1"
    },
    {
      "cell_type": "code",
      "metadata": {},
      "source": [
        "plt.clf()\n",
        "plt.plot(day_var['date'], day_var['daily_avg_windspeed'], color = \"darkgreen\", label = \"Average Daily Wind Speed\")\n",
        "plt.plot(day_var['date'], day_var['avg_windspeed'], color = \"black\", label = \"Average Annual Wind Speed\", linestyle = 'dashed')\n",
        "plt.xlabel(\"Day\")\n",
        "plt.ylabel(\"Average Wind Speed at 100m Height (m/s)\")\n",
        "plt.title(\"Comparing Average Daily Wind Speeds in Santa Barbara at 100 Meters \\n with the Annual Average for 2012\")\n",
        "plt.legend()\n",
        "plt.show()"
      ],
      "id": "c570fb8a",
      "execution_count": null,
      "outputs": []
    },
    {
      "cell_type": "markdown",
      "metadata": {},
      "source": [
        "It looks like the days with the strongest wind throughout the year are in the winter and early months however, there is a lot of variability between the high wind days and the low wind days. It appears that day to day wind variation is low from June-October. How does this look if we simplify it to month-month?\n",
        "\n",
        "### Monthly Averages"
      ],
      "id": "f973d9c8"
    },
    {
      "cell_type": "code",
      "metadata": {},
      "source": [
        "monthly_var = time_subset(period = 'month', df = df_100m)\n",
        "monthly_var.head()"
      ],
      "id": "801b548f",
      "execution_count": null,
      "outputs": []
    },
    {
      "cell_type": "code",
      "metadata": {},
      "source": [
        "plt.clf()\n",
        "plt.bar(monthly_var['month'], monthly_var['month_avg_windspeed'], color = \"green\", label = \"Average Monthly Wind Speed\")\n",
        "plt.xticks(monthly_var['month'])\n",
        "plt.plot(monthly_var['month'], monthly_var['avg_windspeed'], color = \"darkred\", linestyle = 'dashed', label = \"Average Annual Wind Speed\")\n",
        "# plt.scatter(monthly_var['month'], monthly_var['month_avg_windspeed'] + monthly_var['standard_dev'], color = \"grey\", linestyle = 'dashed', label = \"Monthly Standard Deviation\")\n",
        "# plt.scatter(monthly_var['month'], monthly_var['month_avg_windspeed'] - monthly_var['standard_dev'], color = \"grey\", linestyle = 'dashed')\n",
        "plt.xlabel(\"Month\")\n",
        "plt.ylabel(\"Average Wind Speed at 100m Height (m/s)\")\n",
        "plt.title(\"Comparing Average Monthly Wind Speeds in Santa Barbara at 100 Meters with the Annual Average for 2012\")\n",
        "plt.legend()\n",
        "plt.show()"
      ],
      "id": "ef570ef2",
      "execution_count": null,
      "outputs": []
    },
    {
      "cell_type": "markdown",
      "metadata": {},
      "source": [
        "This confirms our observations for the day-to-day variation of wind speed for the year. The winter and early spring months are the windier months, while July-October have lower wind on average. What about the standard deviation for each month?"
      ],
      "id": "ce43016d"
    },
    {
      "cell_type": "code",
      "metadata": {},
      "source": [
        "plt.clf()\n",
        "plt.bar(monthly_var['month'], monthly_var['month_avg_windspeed'], color = \"green\", label = \"Average Monthly Wind Speed\")\n",
        "plt.xticks(monthly_var['month'])\n",
        "plt.scatter(monthly_var['month'], monthly_var['month_avg_windspeed'] + monthly_var['standard_dev'], color = \"grey\", linestyle = 'dashed', label = \"Monthly Standard Deviation\")\n",
        "plt.scatter(monthly_var['month'], monthly_var['month_avg_windspeed'] - monthly_var['standard_dev'], color = \"grey\", linestyle = 'dashed')\n",
        "plt.xlabel(\"Month\")\n",
        "plt.ylabel(\"Average Wind Speed at 100m Height (m/s)\")\n",
        "plt.title(\"Comparing Average Monthly Wind Speeds in Santa Barbara at 100 Meters with the \\n Standard Deviation in 2012\")\n",
        "plt.legend()\n",
        "plt.show()"
      ],
      "id": "0f450ebc",
      "execution_count": null,
      "outputs": []
    },
    {
      "cell_type": "markdown",
      "metadata": {},
      "source": [
        "Including the standard deviations in this plot show us the variability of wind in that particular month in much greater detail. So in February, you can have days with more extreme winds but you can also have days with practically no wind. Whereas in July you have a lower average wind speed, but it is less variable throughout the month. What if we wanted to look how wind speed varies for the hours in a day for a particular month?\n",
        "\n",
        "### Monthly Averages for Each Month"
      ],
      "id": "be3030a9"
    },
    {
      "cell_type": "code",
      "metadata": {},
      "source": [
        "hourly_var = time_subset(period = 'hour', df = df_100m)\n",
        "hourly_var.head()"
      ],
      "id": "88fdb8f4",
      "execution_count": null,
      "outputs": []
    },
    {
      "cell_type": "markdown",
      "metadata": {},
      "source": [
        "Since we know July has less variation than other months lets take a look there first"
      ],
      "id": "bf53b1d5"
    },
    {
      "cell_type": "code",
      "metadata": {},
      "source": [
        "july_var = hourly_var[hourly_var['month'] == 7]\n",
        "plt.clf()\n",
        "plt.bar(july_var['hour'], july_var['hour_avg_windspeed'], label = \"Hourly Daily Wind Speed\", color = \"green\")\n",
        "plt.xticks(july_var['hour'])\n",
        "plt.xlabel(\"Hour of Day\")\n",
        "plt.ylabel(\"Average Wind Speed at 100m Height (m/s)\")\n",
        "plt.title(\"Average Hourly Wind Speeds for July in Santa Barbara at 100 Meters in 2012\")\n",
        "#plt.legend()\n",
        "plt.show()"
      ],
      "id": "c35824d6",
      "execution_count": null,
      "outputs": []
    },
    {
      "cell_type": "code",
      "metadata": {},
      "source": [
        "march_var = hourly_var[hourly_var['month'] == 3]\n",
        "plt.clf()\n",
        "plt.bar(march_var['hour'], march_var['hour_avg_windspeed'], label = \"Hourly Daily Wind Speed\", color = \"green\")\n",
        "plt.xticks(march_var['hour'])\n",
        "plt.xlabel(\"Hour of Day\")\n",
        "plt.ylabel(\"Average Wind Speed at 100m Height (m/s)\")\n",
        "plt.title(\"Average Hourly Wind Speeds for March in Santa Barbara at 100 Meters in 2012\")\n",
        "plt.show()"
      ],
      "id": "0b3d0c88",
      "execution_count": null,
      "outputs": []
    },
    {
      "cell_type": "code",
      "metadata": {},
      "source": [
        "import numpy\n",
        "numpy.version.version"
      ],
      "id": "f03d64b2",
      "execution_count": null,
      "outputs": []
    },
    {
      "cell_type": "markdown",
      "metadata": {},
      "source": [
        "## Next Steps and Considerations\n",
        "\n",
        "With the above code we are able to look at wind speed variation at a specific point for a given year at different heights. It is also possible to use the resulting data frames to visualize these variations. The below tries to expand the work done above to be able to compare multiple points from a data frame.\n",
        "\n",
        "### A Function to Find Indexes for Multiple Points of Interest Indices\n",
        "\n",
        "The function below, `multiple_site_index`, works with the `nearest_site` function above to work with multiple coordinate points rather than one location. The function assumes that the data frame's first column is \"lat\" and the second column is \"lon\"."
      ],
      "id": "3d306153"
    },
    {
      "cell_type": "code",
      "metadata": {},
      "source": [
        "def multiple_site_index(POI_df, coord_array):\n",
        "    POI_df.columns = ['lat', 'lon']\n",
        "    results = []\n",
        "    for ind in POI_df.index:\n",
        "        lat = POI_df['lat'][ind]\n",
        "        lon = POI_df['lon'][ind]\n",
        "        POI_indx = nearest_site(coord_array, lat, lon)\n",
        "        results.append(POI_indx)\n",
        "    return results"
      ],
      "id": "8acdf566",
      "execution_count": null,
      "outputs": []
    },
    {
      "cell_type": "code",
      "metadata": {},
      "source": [
        "coords = raw_h5['coordinates'][...] # save coordinates data as array, ellipses makes it an array rather than HDF5\n",
        "\n",
        "POI_df_test = coords_df.head()\n",
        "\n",
        "POI_multi = multiple_site_index(POI_df = POI_df_test, coord_array = coords)\n",
        "POI_multi"
      ],
      "id": "fb80448a",
      "execution_count": null,
      "outputs": []
    },
    {
      "cell_type": "code",
      "metadata": {},
      "source": [
        "coords = raw_h5['coordinates'][...] # save coordinates data as array, ellipses makes it an array rather than HDF5\n",
        "coords_df = pd.DataFrame(data = coords)\n",
        "coords_df.columns = ['latitude', 'longitude']\n",
        "# coords_df = coords_df.astype(float)\n",
        "\n",
        "\n",
        "# find the max and min of the dataset to create bounding limits\n",
        "lat_max = coords_df['latitude'].max()\n",
        "lat_min = coords_df['latitude'].min()\n",
        "long_max = coords_df['longitude'].max()\n",
        "long_min = coords_df['longitude'].min()\n",
        "type(long_min)"
      ],
      "id": "f2c1b2c4",
      "execution_count": null,
      "outputs": []
    },
    {
      "cell_type": "markdown",
      "metadata": {},
      "source": [
        "```{r}\n",
        "renv::snapshot()\n",
        "renv::restore()\n",
        "```"
      ],
      "id": "5b35b628"
    }
  ],
  "metadata": {
    "kernelspec": {
      "name": "python3",
      "language": "python",
      "display_name": "Python 3 (ipykernel)"
    }
  },
  "nbformat": 4,
  "nbformat_minor": 5
}